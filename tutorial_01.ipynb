{
  "nbformat": 4,
  "nbformat_minor": 0,
  "metadata": {
    "colab": {
      "name": "tutorial-01.ipynb",
      "version": "0.3.2",
      "provenance": []
    },
    "kernelspec": {
      "name": "python3",
      "display_name": "Python 3"
    }
  },
  "cells": [
    {
      "metadata": {
        "id": "4l-tjwYEDveZ",
        "colab_type": "text"
      },
      "cell_type": "markdown",
      "source": [
        "**การแสดงข้อความในหน้าจอ Command Line (cmd)**"
      ]
    },
    {
      "metadata": {
        "id": "5eypsrcAC8As",
        "colab_type": "code",
        "colab": {
          "base_uri": "https://localhost:8080/",
          "height": 107
        },
        "outputId": "2e203fea-9cc6-40d7-a3e9-3623edcccae6"
      },
      "cell_type": "code",
      "source": [
        "print('Olarik')  # สามารถใช้ Single Quota ในการแสดงข้อความ\n",
        "print(\"Olarik\")  # สามารถใช้ Double Quota ในการแสดงข้อความ\n",
        "\n",
        "print('Olarik Surinta, Lecturer')"
      ],
      "execution_count": 20,
      "outputs": [
        {
          "output_type": "stream",
          "text": [
            "Olarik\n",
            "Olarik\n",
            "Olarik Surinta, Lecturer\n"
          ],
          "name": "stdout"
        }
      ]
    },
    {
      "metadata": {
        "id": "uqBJrPHSERei",
        "colab_type": "text"
      },
      "cell_type": "markdown",
      "source": [
        "**การสร้าง comment ในโปรแกรม python**  \n",
        "comment จะไม่แสดงผลในหน้าจอ (Monitor)"
      ]
    },
    {
      "metadata": {
        "id": "qOMBfek9DF1i",
        "colab_type": "code",
        "colab": {}
      },
      "cell_type": "code",
      "source": [
        "# Single Line Comment\n",
        "\n",
        "# การคอมเมนต์ใน Python แบบบรรทัดเดียวให้ใช้เครื่องหมาย hash (#)"
      ],
      "execution_count": 0,
      "outputs": []
    },
    {
      "metadata": {
        "id": "jqlkgmQcEecm",
        "colab_type": "code",
        "colab": {}
      },
      "cell_type": "code",
      "source": [
        "'''\n",
        "การคอมเมนต์แบบหลายบรรทัด \n",
        "ให้ใช้เครื่องหมาย Single Quote จำนวน 3 อัน หรือ \n",
        "ใช้เครื่องหมาย Double Quote จำนวน 3 อัน\n",
        "'''"
      ],
      "execution_count": 0,
      "outputs": []
    },
    {
      "metadata": {
        "id": "ZmV2_tXnF0J3",
        "colab_type": "text"
      },
      "cell_type": "markdown",
      "source": [
        "**การกำหนดตัวแปร**"
      ]
    },
    {
      "metadata": {
        "id": "hbgUqskpEsPF",
        "colab_type": "code",
        "colab": {}
      },
      "cell_type": "code",
      "source": [
        "# การกำหนดตัวแปรแบบ string (str)\n",
        "# ให้ใช้เครื่องหมาย Single Quota ครอบตัวอักษร (string) \n",
        "# เพื่อกำหนดว่าตัวแปรนั้นเป็นแบบ string\n",
        "\n",
        "name = 'Olarik'"
      ],
      "execution_count": 0,
      "outputs": []
    },
    {
      "metadata": {
        "id": "afs2Vr_9FvpO",
        "colab_type": "code",
        "colab": {}
      },
      "cell_type": "code",
      "source": [
        "# การกำหนดตัวแปรแบบ interger (int)\n",
        "\n",
        "age = 40"
      ],
      "execution_count": 0,
      "outputs": []
    },
    {
      "metadata": {
        "id": "mi1Lr4C7GV-v",
        "colab_type": "code",
        "colab": {}
      },
      "cell_type": "code",
      "source": [
        "# การกำหนดตัวแปรแบบ floating point (float)\n",
        "\n",
        "weight = 65.3"
      ],
      "execution_count": 0,
      "outputs": []
    },
    {
      "metadata": {
        "id": "Sa8u_5sXGdXB",
        "colab_type": "text"
      },
      "cell_type": "markdown",
      "source": [
        "**การตรวจสอบประเภทของตัวแปร **  \n",
        "ใช้ Built-in function ชื่อ **type()  **  "
      ]
    },
    {
      "metadata": {
        "id": "HhWrjuJsGbt5",
        "colab_type": "code",
        "colab": {
          "base_uri": "https://localhost:8080/",
          "height": 74
        },
        "outputId": "b8cb568a-65cc-49bd-b0cf-16f8958ff91e"
      },
      "cell_type": "code",
      "source": [
        "# แสดงประเภทข้อมูลของตัวแปร name\n",
        "# ตัวแปรประเภท string (str)\n",
        "print(type(name))"
      ],
      "execution_count": 17,
      "outputs": [
        {
          "output_type": "stream",
          "text": [
            "<class 'str'>\n"
          ],
          "name": "stdout"
        }
      ]
    },
    {
      "metadata": {
        "id": "joQu19omGvRC",
        "colab_type": "code",
        "colab": {
          "base_uri": "https://localhost:8080/",
          "height": 74
        },
        "outputId": "f5281042-9b9c-45ec-f381-07fa6972599b"
      },
      "cell_type": "code",
      "source": [
        "# แสดงประเภทข้อมูลของตัวแปร age\n",
        "# ตัวแปรประเภท integer (int)\n",
        "print(type(age))"
      ],
      "execution_count": 18,
      "outputs": [
        {
          "output_type": "stream",
          "text": [
            "<class 'int'>\n"
          ],
          "name": "stdout"
        }
      ]
    },
    {
      "metadata": {
        "id": "NlCQl0rqGyuS",
        "colab_type": "code",
        "colab": {
          "base_uri": "https://localhost:8080/",
          "height": 74
        },
        "outputId": "a127f868-41fc-479f-c889-e092da3e5f49"
      },
      "cell_type": "code",
      "source": [
        "# แสดงประเภทข้อมูลของตัวแปร weight\n",
        "# ตัวแปรประเภท floating point (float)\n",
        "print(type(weight))"
      ],
      "execution_count": 19,
      "outputs": [
        {
          "output_type": "stream",
          "text": [
            "<class 'float'>\n"
          ],
          "name": "stdout"
        }
      ]
    },
    {
      "metadata": {
        "id": "Jjy9kvf7HSEJ",
        "colab_type": "text"
      },
      "cell_type": "markdown",
      "source": [
        "**การแสดงผลค่าของตัวแปร - value**"
      ]
    },
    {
      "metadata": {
        "id": "JES7z7FHHD05",
        "colab_type": "code",
        "colab": {
          "base_uri": "https://localhost:8080/",
          "height": 107
        },
        "outputId": "62cbaf5a-8e29-422a-95ce-396beb05802b"
      },
      "cell_type": "code",
      "source": [
        "print('Your name is ', name)\n",
        "print('Your age is ', age)\n",
        "print('Your weight is ', weight)"
      ],
      "execution_count": 21,
      "outputs": [
        {
          "output_type": "stream",
          "text": [
            "Your name is  Olarik\n",
            "Your age is  40\n",
            "Your weight is  65.3\n"
          ],
          "name": "stdout"
        }
      ]
    },
    {
      "metadata": {
        "id": "-I5F_LEOHkQ9",
        "colab_type": "code",
        "colab": {
          "base_uri": "https://localhost:8080/",
          "height": 92
        },
        "outputId": "9e486d4b-9e31-4e7e-d7a4-171d040984cf"
      },
      "cell_type": "code",
      "source": [
        "print('My name is ', name, ', I\\' m', age, 'years old')\n",
        "print('My weight is ', weight, 'kg.')"
      ],
      "execution_count": 27,
      "outputs": [
        {
          "output_type": "stream",
          "text": [
            "My name is  Olarik , I' m 40 years old\n",
            "My weight is  65.3 kg.\n"
          ],
          "name": "stdout"
        }
      ]
    },
    {
      "metadata": {
        "id": "qrAcRDQjIfpR",
        "colab_type": "text"
      },
      "cell_type": "markdown",
      "source": [
        "**การรับค่าจากคีย์บอร์ด - input**"
      ]
    },
    {
      "metadata": {
        "id": "ILlF34jdH4i-",
        "colab_type": "code",
        "colab": {
          "base_uri": "https://localhost:8080/",
          "height": 160
        },
        "outputId": "f7b60ab9-e075-4e05-9069-549a5844b5fb"
      },
      "cell_type": "code",
      "source": [
        "input('What\\'s your name? ')"
      ],
      "execution_count": 30,
      "outputs": [
        {
          "output_type": "stream",
          "text": [
            "What's your name? Olarik\n"
          ],
          "name": "stdout"
        },
        {
          "output_type": "execute_result",
          "data": {
            "text/plain": [
              "'Olarik'"
            ]
          },
          "metadata": {
            "tags": []
          },
          "execution_count": 30
        }
      ]
    },
    {
      "metadata": {
        "id": "7bbUWehmI1A6",
        "colab_type": "text"
      },
      "cell_type": "markdown",
      "source": [
        "**สร้างตัวแปร (variable) เพื่อเก็บค่าที่รับจากคีย์บอร์ด**"
      ]
    },
    {
      "metadata": {
        "id": "o094qDSLIqEi",
        "colab_type": "code",
        "colab": {
          "base_uri": "https://localhost:8080/",
          "height": 160
        },
        "outputId": "8d2da1ae-bce5-45b7-8129-c0ad0fecb660"
      },
      "cell_type": "code",
      "source": [
        "name = input('What\\'s your name? ')\n",
        "\n",
        "print('My name is ', name)"
      ],
      "execution_count": 31,
      "outputs": [
        {
          "output_type": "stream",
          "text": [
            "What's your name? Olarik\n",
            "My name is  Olarik\n"
          ],
          "name": "stdout"
        }
      ]
    },
    {
      "metadata": {
        "id": "xGjRA42aJIKX",
        "colab_type": "text"
      },
      "cell_type": "markdown",
      "source": [
        "**ตรวจสอบประเภทของตัวแปรที่รับมาจากคีย์บอร์ด**  \n",
        "ค่าที่รับจากคีย์บอร์ดจะเป็นประเภท string "
      ]
    },
    {
      "metadata": {
        "id": "Pkot3LhnJC_l",
        "colab_type": "code",
        "colab": {
          "base_uri": "https://localhost:8080/",
          "height": 160
        },
        "outputId": "452501d9-fb31-4fce-b385-a3634b20b0db"
      },
      "cell_type": "code",
      "source": [
        "name = input('What\\'s your name? ')\n",
        "\n",
        "print(type(name))"
      ],
      "execution_count": 32,
      "outputs": [
        {
          "output_type": "stream",
          "text": [
            "What's your name? Olarik\n",
            "<class 'str'>\n"
          ],
          "name": "stdout"
        }
      ]
    },
    {
      "metadata": {
        "id": "E1sfBp2uJXO_",
        "colab_type": "code",
        "colab": {
          "base_uri": "https://localhost:8080/",
          "height": 160
        },
        "outputId": "686074a1-3f00-44cd-e84d-abaf2f36b4ab"
      },
      "cell_type": "code",
      "source": [
        "age = input('How old are you? ')\n",
        "\n",
        "print(type(age))"
      ],
      "execution_count": 33,
      "outputs": [
        {
          "output_type": "stream",
          "text": [
            "How old are you? 40\n",
            "<class 'str'>\n"
          ],
          "name": "stdout"
        }
      ]
    },
    {
      "metadata": {
        "id": "WOzPAkJFKGJf",
        "colab_type": "text"
      },
      "cell_type": "markdown",
      "source": [
        "**การเปลี่ยนประเภทของข้อมูล**"
      ]
    },
    {
      "metadata": {
        "id": "r4ZztJTcJfU9",
        "colab_type": "code",
        "colab": {
          "base_uri": "https://localhost:8080/",
          "height": 92
        },
        "outputId": "f0379a5e-3370-4794-aae1-122ba29c28c4"
      },
      "cell_type": "code",
      "source": [
        "# การเปลี่ยนจาก string ให้เป็น integer\n",
        "\n",
        "# กรณีนี้ตัวแปร age เก็บข้อมูล '40' ในรูปแบบของ string\n",
        "age = '40'\n",
        "print(type(age))\n",
        "\n",
        "# ใช้ built-in function ที่ชื่อ int()\n",
        "# การเปลี่ยนประเภทจาก string ให้เป็น integer ใช้ได้เฉพาะในกรณีที่ป้อนข้อมูลจากคีย์บอร์ดเป็นตัวเลขเท่านั้น\n",
        "age = int(age)  \n",
        "print(type(age))"
      ],
      "execution_count": 39,
      "outputs": [
        {
          "output_type": "stream",
          "text": [
            "<class 'str'>\n",
            "<class 'int'>\n"
          ],
          "name": "stdout"
        }
      ]
    },
    {
      "metadata": {
        "id": "5FlHusTnKR6T",
        "colab_type": "code",
        "colab": {
          "base_uri": "https://localhost:8080/",
          "height": 234
        },
        "outputId": "581d1cf6-e567-47c5-bd3b-1f300f7c1625"
      },
      "cell_type": "code",
      "source": [
        "# กรณีนี้ตัวแปร age เก็บข้อมูล 'ten' ซึ่งเป็นข้อมูลแบบ string \n",
        "# จึงไม่สามารถแปลงให้เป็น integer ได้\n",
        "age = 'ten'\n",
        "\n",
        "age = int(age)"
      ],
      "execution_count": 41,
      "outputs": [
        {
          "output_type": "error",
          "ename": "ValueError",
          "evalue": "ignored",
          "traceback": [
            "\u001b[0;31m---------------------------------------------------------------------------\u001b[0m",
            "\u001b[0;31mValueError\u001b[0m                                Traceback (most recent call last)",
            "\u001b[0;32m<ipython-input-41-cbdea3f6f47c>\u001b[0m in \u001b[0;36m<module>\u001b[0;34m()\u001b[0m\n\u001b[1;32m      1\u001b[0m \u001b[0mage\u001b[0m \u001b[0;34m=\u001b[0m \u001b[0;34m'ten'\u001b[0m\u001b[0;34m\u001b[0m\u001b[0;34m\u001b[0m\u001b[0m\n\u001b[1;32m      2\u001b[0m \u001b[0;34m\u001b[0m\u001b[0m\n\u001b[0;32m----> 3\u001b[0;31m \u001b[0mage\u001b[0m \u001b[0;34m=\u001b[0m \u001b[0mint\u001b[0m\u001b[0;34m(\u001b[0m\u001b[0mage\u001b[0m\u001b[0;34m)\u001b[0m\u001b[0;34m\u001b[0m\u001b[0;34m\u001b[0m\u001b[0m\n\u001b[0m",
            "\u001b[0;31mValueError\u001b[0m: invalid literal for int() with base 10: 'ten'"
          ]
        }
      ]
    },
    {
      "metadata": {
        "id": "XJfV3z6rLhZ4",
        "colab_type": "text"
      },
      "cell_type": "markdown",
      "source": [
        "**การกำหนดเงื่อนไขแบบ if - if condition**    \n",
        "**if** จะทำงานในกรณีที่เป็นจริง (True) เท่านั้น "
      ]
    },
    {
      "metadata": {
        "id": "2676fGS5Kehy",
        "colab_type": "code",
        "colab": {
          "base_uri": "https://localhost:8080/",
          "height": 140
        },
        "outputId": "2796e12a-9bc7-4213-e36a-174b19994b8f"
      },
      "cell_type": "code",
      "source": [
        "age = input('How old are you? ')\n",
        "age = int(age)\n",
        "\n",
        "if(age < 20):\n",
        "  print('You\\'re very young')"
      ],
      "execution_count": 46,
      "outputs": [
        {
          "output_type": "stream",
          "text": [
            "How old are you? 19\n",
            "Your're very young\n"
          ],
          "name": "stdout"
        }
      ]
    },
    {
      "metadata": {
        "id": "x3ES-6rVMjAi",
        "colab_type": "code",
        "colab": {
          "base_uri": "https://localhost:8080/",
          "height": 140
        },
        "outputId": "b638dffd-0e12-405f-aeb2-248e0d30bcbc"
      },
      "cell_type": "code",
      "source": [
        "# if condition จะมีแค่เงื่อนไขที่เป็นจริง (True) เงื่อนไขเดียวเท่านั้น \n",
        "# ดังนั้น หากกรอกตัวเลขอายุมากกว่าหรือเท่ากับ (>=) 20 จึงไม่เข้าเงื่อนไข\n",
        "age = input('How old are you? ')\n",
        "age = int(age)\n",
        "\n",
        "if(age < 20):\n",
        "  print('You\\'re very young')"
      ],
      "execution_count": 48,
      "outputs": [
        {
          "output_type": "stream",
          "text": [
            "How old are you? 30\n"
          ],
          "name": "stdout"
        }
      ]
    },
    {
      "metadata": {
        "id": "rB0VyOfvLq28",
        "colab_type": "text"
      },
      "cell_type": "markdown",
      "source": [
        "**การกำหนดเงื่อนไขแบบ if-else -- if-else condition**    \n",
        "**if** จะทำงานในกรณีที่เป็นจริง (True) เท่านั้น  \n",
        "ดังนั้น **else**  จะทำงานเมื่อเป็นเท็จ (False)"
      ]
    },
    {
      "metadata": {
        "id": "cA9-iRnaNJwa",
        "colab_type": "code",
        "colab": {
          "base_uri": "https://localhost:8080/",
          "height": 160
        },
        "outputId": "890dab9a-2f1e-428a-c1a1-9e918a25d1bf"
      },
      "cell_type": "code",
      "source": [
        "# กรณีที่กรอกข้อมูล age ให้มีค่าเป็น 20 จะมีเงื่อนไขเป็นจริง (True) จึงเข้าเงื่อนไขแรก\n",
        "age = input('How old are you? ')\n",
        "age = int(age)\n",
        "\n",
        "if(age <= 20):\n",
        "  print('You\\'re very young')\n",
        "else:\n",
        "  print('You\\'re not too youg')"
      ],
      "execution_count": 51,
      "outputs": [
        {
          "output_type": "stream",
          "text": [
            "How old are you? 20\n",
            "You're very young\n"
          ],
          "name": "stdout"
        }
      ]
    },
    {
      "metadata": {
        "id": "6zAw2UKENWIq",
        "colab_type": "code",
        "colab": {
          "base_uri": "https://localhost:8080/",
          "height": 160
        },
        "outputId": "64475f54-bd91-46eb-e3e4-0f5f506ce89f"
      },
      "cell_type": "code",
      "source": [
        "# กรณีที่กรอกข้อมูล age ให้มีค่าเป็น 30 จะมีเงื่อนไขเป็นเท็จ (False) จึงเข้าเงื่อนไขที่สอง (else)\n",
        "age = input('How old are you? ')\n",
        "age = int(age)\n",
        "\n",
        "if(age <= 20):\n",
        "  print('You\\'re very young')\n",
        "else:\n",
        "  print('You\\'re not too youg')"
      ],
      "execution_count": 52,
      "outputs": [
        {
          "output_type": "stream",
          "text": [
            "How old are you? 30\n",
            "You're not too youg\n"
          ],
          "name": "stdout"
        }
      ]
    },
    {
      "metadata": {
        "id": "6quz4M1DOB5K",
        "colab_type": "text"
      },
      "cell_type": "markdown",
      "source": [
        "**การกำหนดเงื่อนไขแบบ if-else-if -- if-else-if condition**    \n",
        "**if** จะทำงานในกรณีที่เป็นจริง (True) เท่านั้น  \n",
        "**else-if**  จะทำงานเมื่อเป็นจริง (True) เท่านั้น  \n",
        "แต่ **else** จะทำงานเมื่อเป็นเท็จ (False)"
      ]
    },
    {
      "metadata": {
        "id": "uZrKowujNx0p",
        "colab_type": "code",
        "colab": {
          "base_uri": "https://localhost:8080/",
          "height": 160
        },
        "outputId": "7476e3e1-e421-4cda-eae2-2023c28e8981"
      },
      "cell_type": "code",
      "source": [
        "score = input('Please input your Exam score: ')\n",
        "score = int(score)\n",
        "\n",
        "if(score > 100):\n",
        "  print('Error')\n",
        "elif(score > 80):\n",
        "  print('Your grade is A')\n",
        "elif(score > 70):\n",
        "  print('Your grade is B')\n",
        "elif(score > 60):\n",
        "  print('Your grade is C')\n",
        "else:\n",
        "  print('Your grade is F')"
      ],
      "execution_count": 57,
      "outputs": [
        {
          "output_type": "stream",
          "text": [
            "Please input your Exam score: 120\n",
            "Error\n"
          ],
          "name": "stdout"
        }
      ]
    },
    {
      "metadata": {
        "id": "bD4tnTdzOt7n",
        "colab_type": "code",
        "colab": {
          "base_uri": "https://localhost:8080/",
          "height": 140
        },
        "outputId": "5fea755a-5cac-4dfc-f539-9f70b232538f"
      },
      "cell_type": "code",
      "source": [
        "score = input('Please input your Exam score: ')\n",
        "score = int(score)\n",
        "\n",
        "if(score > 100):\n",
        "  print('Error')\n",
        "elif(score > 80):\n",
        "  print('Your grade is A')\n",
        "elif(score > 70):\n",
        "  print('Your grade is B')\n",
        "elif(score > 60):\n",
        "  print('Your grade is C')\n",
        "else:\n",
        "  print('Your grade is F')"
      ],
      "execution_count": 58,
      "outputs": [
        {
          "output_type": "stream",
          "text": [
            "Please input your Exam score: 85\n",
            "Your grade is A\n"
          ],
          "name": "stdout"
        }
      ]
    },
    {
      "metadata": {
        "id": "QTQB-HD1O2z9",
        "colab_type": "code",
        "colab": {
          "base_uri": "https://localhost:8080/",
          "height": 160
        },
        "outputId": "ca9e2867-301a-4345-d7e6-f1237da6a7e4"
      },
      "cell_type": "code",
      "source": [
        "score = input('Please input your Exam score: ')\n",
        "score = int(score)\n",
        "\n",
        "if(score > 100):\n",
        "  print('Error')\n",
        "elif(score > 80):\n",
        "  print('Your grade is A')\n",
        "elif(score > 70):\n",
        "  print('Your grade is B')\n",
        "elif(score > 60):\n",
        "  print('Your grade is C')\n",
        "else:\n",
        "  print('Your grade is F')"
      ],
      "execution_count": 60,
      "outputs": [
        {
          "output_type": "stream",
          "text": [
            "Please input your Exam score: 75\n",
            "Your grade is B\n"
          ],
          "name": "stdout"
        }
      ]
    },
    {
      "metadata": {
        "id": "Yo92uLn-O6bG",
        "colab_type": "code",
        "colab": {
          "base_uri": "https://localhost:8080/",
          "height": 160
        },
        "outputId": "699ea947-2f7d-4a4b-d001-6a5ef8827d93"
      },
      "cell_type": "code",
      "source": [
        "score = input('Please input your Exam score: ')\n",
        "score = int(score)\n",
        "10\n",
        "if(score > 100):\n",
        "  print('Error')\n",
        "elif(score > 80):\n",
        "  print('Your grade is A')\n",
        "elif(score > 70):\n",
        "  print('Your grade is B')\n",
        "elif(score > 60):\n",
        "  print('Your grade is C')\n",
        "else:\n",
        "  print('Your grade is F')"
      ],
      "execution_count": 61,
      "outputs": [
        {
          "output_type": "stream",
          "text": [
            "Please input your Exam score: 10\n",
            "Your grade is F\n"
          ],
          "name": "stdout"
        }
      ]
    },
    {
      "metadata": {
        "id": "UBSEhvrbPg_R",
        "colab_type": "code",
        "colab": {}
      },
      "cell_type": "code",
      "source": [
        ""
      ],
      "execution_count": 0,
      "outputs": []
    }
  ]
}